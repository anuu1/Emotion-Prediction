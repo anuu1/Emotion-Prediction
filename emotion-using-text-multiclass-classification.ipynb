{
 "cells": [
  {
   "cell_type": "code",
   "execution_count": 3,
   "id": "729e52be",
   "metadata": {
    "_cell_guid": "b1076dfc-b9ad-4769-8c92-a6c4dae69d19",
    "_uuid": "8f2839f25d086af736a60e9eeb907d3b93b6e0e5",
    "execution": {
     "iopub.execute_input": "2024-02-04T13:32:53.750787Z",
     "iopub.status.busy": "2024-02-04T13:32:53.750128Z",
     "iopub.status.idle": "2024-02-04T13:32:54.848868Z",
     "shell.execute_reply": "2024-02-04T13:32:54.847289Z"
    },
    "papermill": {
     "duration": 1.109111,
     "end_time": "2024-02-04T13:32:54.851234",
     "exception": false,
     "start_time": "2024-02-04T13:32:53.742123",
     "status": "completed"
    },
    "tags": []
   },
   "outputs": [],
   "source": [
    "import numpy as np # linear algebra\n",
    "import pandas as pd # data processing, CSV file I/O (e.g. pd.read_csv)"
   ]
  },
  {
   "cell_type": "code",
   "execution_count": 4,
   "id": "72cdb65f",
   "metadata": {
    "execution": {
     "iopub.execute_input": "2024-02-04T13:32:54.865479Z",
     "iopub.status.busy": "2024-02-04T13:32:54.864881Z",
     "iopub.status.idle": "2024-02-04T13:32:54.946146Z",
     "shell.execute_reply": "2024-02-04T13:32:54.944956Z"
    },
    "papermill": {
     "duration": 0.091141,
     "end_time": "2024-02-04T13:32:54.948629",
     "exception": false,
     "start_time": "2024-02-04T13:32:54.857488",
     "status": "completed"
    },
    "tags": []
   },
   "outputs": [],
   "source": [
    "df=pd.read_csv('Emotion_final.csv')"
   ]
  },
  {
   "cell_type": "code",
   "execution_count": 5,
   "id": "01f0b77c",
   "metadata": {
    "execution": {
     "iopub.execute_input": "2024-02-04T13:32:54.963662Z",
     "iopub.status.busy": "2024-02-04T13:32:54.962983Z",
     "iopub.status.idle": "2024-02-04T13:32:57.353624Z",
     "shell.execute_reply": "2024-02-04T13:32:57.352255Z"
    },
    "papermill": {
     "duration": 2.401514,
     "end_time": "2024-02-04T13:32:57.356336",
     "exception": false,
     "start_time": "2024-02-04T13:32:54.954822",
     "status": "completed"
    },
    "tags": []
   },
   "outputs": [],
   "source": [
    "#importing all imp libraries\n",
    "from nltk.corpus import stopwords\n",
    "import re\n",
    "from sklearn.feature_extraction.text import CountVectorizer,TfidfVectorizer\n",
    "from sklearn.metrics import accuracy_score"
   ]
  },
  {
   "cell_type": "code",
   "execution_count": 6,
   "id": "82474329",
   "metadata": {
    "execution": {
     "iopub.execute_input": "2024-02-04T13:32:57.370158Z",
     "iopub.status.busy": "2024-02-04T13:32:57.369740Z",
     "iopub.status.idle": "2024-02-04T13:32:57.391902Z",
     "shell.execute_reply": "2024-02-04T13:32:57.390381Z"
    },
    "papermill": {
     "duration": 0.033516,
     "end_time": "2024-02-04T13:32:57.396018",
     "exception": false,
     "start_time": "2024-02-04T13:32:57.362502",
     "status": "completed"
    },
    "tags": []
   },
   "outputs": [
    {
     "data": {
      "text/html": [
       "<div>\n",
       "<style scoped>\n",
       "    .dataframe tbody tr th:only-of-type {\n",
       "        vertical-align: middle;\n",
       "    }\n",
       "\n",
       "    .dataframe tbody tr th {\n",
       "        vertical-align: top;\n",
       "    }\n",
       "\n",
       "    .dataframe thead th {\n",
       "        text-align: right;\n",
       "    }\n",
       "</style>\n",
       "<table border=\"1\" class=\"dataframe\">\n",
       "  <thead>\n",
       "    <tr style=\"text-align: right;\">\n",
       "      <th></th>\n",
       "      <th>Text</th>\n",
       "      <th>Emotion</th>\n",
       "    </tr>\n",
       "  </thead>\n",
       "  <tbody>\n",
       "    <tr>\n",
       "      <th>0</th>\n",
       "      <td>i didnt feel humiliated</td>\n",
       "      <td>sadness</td>\n",
       "    </tr>\n",
       "    <tr>\n",
       "      <th>1</th>\n",
       "      <td>i can go from feeling so hopeless to so damned...</td>\n",
       "      <td>sadness</td>\n",
       "    </tr>\n",
       "    <tr>\n",
       "      <th>2</th>\n",
       "      <td>im grabbing a minute to post i feel greedy wrong</td>\n",
       "      <td>anger</td>\n",
       "    </tr>\n",
       "    <tr>\n",
       "      <th>3</th>\n",
       "      <td>i am ever feeling nostalgic about the fireplac...</td>\n",
       "      <td>love</td>\n",
       "    </tr>\n",
       "    <tr>\n",
       "      <th>4</th>\n",
       "      <td>i am feeling grouchy</td>\n",
       "      <td>anger</td>\n",
       "    </tr>\n",
       "  </tbody>\n",
       "</table>\n",
       "</div>"
      ],
      "text/plain": [
       "                                                Text  Emotion\n",
       "0                            i didnt feel humiliated  sadness\n",
       "1  i can go from feeling so hopeless to so damned...  sadness\n",
       "2   im grabbing a minute to post i feel greedy wrong    anger\n",
       "3  i am ever feeling nostalgic about the fireplac...     love\n",
       "4                               i am feeling grouchy    anger"
      ]
     },
     "execution_count": 6,
     "metadata": {},
     "output_type": "execute_result"
    }
   ],
   "source": [
    "df.head()"
   ]
  },
  {
   "cell_type": "code",
   "execution_count": 7,
   "id": "f5a8793a",
   "metadata": {
    "execution": {
     "iopub.execute_input": "2024-02-04T13:32:57.410607Z",
     "iopub.status.busy": "2024-02-04T13:32:57.410126Z",
     "iopub.status.idle": "2024-02-04T13:32:57.430383Z",
     "shell.execute_reply": "2024-02-04T13:32:57.429056Z"
    },
    "papermill": {
     "duration": 0.030828,
     "end_time": "2024-02-04T13:32:57.433047",
     "exception": false,
     "start_time": "2024-02-04T13:32:57.402219",
     "status": "completed"
    },
    "tags": []
   },
   "outputs": [
    {
     "data": {
      "text/plain": [
       "6"
      ]
     },
     "execution_count": 7,
     "metadata": {},
     "output_type": "execute_result"
    }
   ],
   "source": [
    "len(df.Emotion.value_counts())"
   ]
  },
  {
   "cell_type": "code",
   "execution_count": 8,
   "id": "8bf90361",
   "metadata": {
    "execution": {
     "iopub.execute_input": "2024-02-04T13:32:57.447675Z",
     "iopub.status.busy": "2024-02-04T13:32:57.447245Z",
     "iopub.status.idle": "2024-02-04T13:32:57.458968Z",
     "shell.execute_reply": "2024-02-04T13:32:57.457830Z"
    },
    "papermill": {
     "duration": 0.022003,
     "end_time": "2024-02-04T13:32:57.461264",
     "exception": false,
     "start_time": "2024-02-04T13:32:57.439261",
     "status": "completed"
    },
    "tags": []
   },
   "outputs": [
    {
     "data": {
      "text/plain": [
       "array(['sadness', 'anger', 'love', 'surprise', 'fear', 'happy'],\n",
       "      dtype=object)"
      ]
     },
     "execution_count": 8,
     "metadata": {},
     "output_type": "execute_result"
    }
   ],
   "source": [
    "df.Emotion.unique()"
   ]
  },
  {
   "cell_type": "markdown",
   "id": "3417547e",
   "metadata": {
    "papermill": {
     "duration": 0.005898,
     "end_time": "2024-02-04T13:32:57.473539",
     "exception": false,
     "start_time": "2024-02-04T13:32:57.467641",
     "status": "completed"
    },
    "tags": []
   },
   "source": [
    "**Checking for NULL**"
   ]
  },
  {
   "cell_type": "code",
   "execution_count": 9,
   "id": "5364028c",
   "metadata": {
    "execution": {
     "iopub.execute_input": "2024-02-04T13:32:57.488559Z",
     "iopub.status.busy": "2024-02-04T13:32:57.487437Z",
     "iopub.status.idle": "2024-02-04T13:32:57.502599Z",
     "shell.execute_reply": "2024-02-04T13:32:57.501349Z"
    },
    "papermill": {
     "duration": 0.025194,
     "end_time": "2024-02-04T13:32:57.504923",
     "exception": false,
     "start_time": "2024-02-04T13:32:57.479729",
     "status": "completed"
    },
    "tags": []
   },
   "outputs": [
    {
     "data": {
      "text/plain": [
       "Text       0\n",
       "Emotion    0\n",
       "dtype: int64"
      ]
     },
     "execution_count": 9,
     "metadata": {},
     "output_type": "execute_result"
    }
   ],
   "source": [
    "df.isnull().sum()"
   ]
  },
  {
   "cell_type": "code",
   "execution_count": 10,
   "id": "d7066aa6",
   "metadata": {
    "execution": {
     "iopub.execute_input": "2024-02-04T13:32:57.522081Z",
     "iopub.status.busy": "2024-02-04T13:32:57.521377Z",
     "iopub.status.idle": "2024-02-04T13:32:57.529038Z",
     "shell.execute_reply": "2024-02-04T13:32:57.527713Z"
    },
    "papermill": {
     "duration": 0.019482,
     "end_time": "2024-02-04T13:32:57.531773",
     "exception": false,
     "start_time": "2024-02-04T13:32:57.512291",
     "status": "completed"
    },
    "tags": []
   },
   "outputs": [
    {
     "data": {
      "text/plain": [
       "(21459, 2)"
      ]
     },
     "execution_count": 10,
     "metadata": {},
     "output_type": "execute_result"
    }
   ],
   "source": [
    "df.shape"
   ]
  },
  {
   "cell_type": "code",
   "execution_count": 11,
   "id": "068cc683",
   "metadata": {
    "execution": {
     "iopub.execute_input": "2024-02-04T13:32:57.548933Z",
     "iopub.status.busy": "2024-02-04T13:32:57.548214Z",
     "iopub.status.idle": "2024-02-04T13:32:57.576770Z",
     "shell.execute_reply": "2024-02-04T13:32:57.575128Z"
    },
    "papermill": {
     "duration": 0.040516,
     "end_time": "2024-02-04T13:32:57.580052",
     "exception": false,
     "start_time": "2024-02-04T13:32:57.539536",
     "status": "completed"
    },
    "tags": []
   },
   "outputs": [],
   "source": [
    "df.drop_duplicates(inplace=True)"
   ]
  },
  {
   "cell_type": "code",
   "execution_count": 12,
   "id": "1c350aba",
   "metadata": {
    "execution": {
     "iopub.execute_input": "2024-02-04T13:32:57.596777Z",
     "iopub.status.busy": "2024-02-04T13:32:57.596029Z",
     "iopub.status.idle": "2024-02-04T13:32:57.603234Z",
     "shell.execute_reply": "2024-02-04T13:32:57.602010Z"
    },
    "papermill": {
     "duration": 0.018721,
     "end_time": "2024-02-04T13:32:57.605761",
     "exception": false,
     "start_time": "2024-02-04T13:32:57.587040",
     "status": "completed"
    },
    "tags": []
   },
   "outputs": [
    {
     "data": {
      "text/plain": [
       "(21456, 2)"
      ]
     },
     "execution_count": 12,
     "metadata": {},
     "output_type": "execute_result"
    }
   ],
   "source": [
    "df.shape"
   ]
  },
  {
   "cell_type": "markdown",
   "id": "2df0c43a",
   "metadata": {
    "papermill": {
     "duration": 0.007405,
     "end_time": "2024-02-04T13:32:57.623498",
     "exception": false,
     "start_time": "2024-02-04T13:32:57.616093",
     "status": "completed"
    },
    "tags": []
   },
   "source": [
    "# preprocessing the text"
   ]
  },
  {
   "cell_type": "code",
   "execution_count": 13,
   "id": "8519da4e",
   "metadata": {
    "execution": {
     "iopub.execute_input": "2024-02-04T13:32:57.640571Z",
     "iopub.status.busy": "2024-02-04T13:32:57.640159Z",
     "iopub.status.idle": "2024-02-04T13:32:57.684193Z",
     "shell.execute_reply": "2024-02-04T13:32:57.683048Z"
    },
    "papermill": {
     "duration": 0.056579,
     "end_time": "2024-02-04T13:32:57.687658",
     "exception": false,
     "start_time": "2024-02-04T13:32:57.631079",
     "status": "completed"
    },
    "tags": []
   },
   "outputs": [
    {
     "name": "stdout",
     "output_type": "stream",
     "text": [
      "409845\n"
     ]
    }
   ],
   "source": [
    "#total no of words\n",
    "print(df['Text'].apply(lambda x: len(x.split(' '))).sum())"
   ]
  },
  {
   "cell_type": "code",
   "execution_count": 14,
   "id": "ad6b567f",
   "metadata": {
    "execution": {
     "iopub.execute_input": "2024-02-04T13:32:57.705115Z",
     "iopub.status.busy": "2024-02-04T13:32:57.704356Z",
     "iopub.status.idle": "2024-02-04T13:32:57.718475Z",
     "shell.execute_reply": "2024-02-04T13:32:57.717172Z"
    },
    "papermill": {
     "duration": 0.026104,
     "end_time": "2024-02-04T13:32:57.721168",
     "exception": false,
     "start_time": "2024-02-04T13:32:57.695064",
     "status": "completed"
    },
    "tags": []
   },
   "outputs": [
    {
     "name": "stderr",
     "output_type": "stream",
     "text": [
      "<>:1: SyntaxWarning: invalid escape sequence '\\['\n",
      "<>:1: SyntaxWarning: invalid escape sequence '\\['\n",
      "C:\\Users\\123\\AppData\\Local\\Temp\\ipykernel_14160\\1648837932.py:1: SyntaxWarning: invalid escape sequence '\\['\n",
      "  special_char_remove=re.compile('[/(){}\\[\\]\\|@,;]')\n"
     ]
    }
   ],
   "source": [
    "special_char_remove=re.compile('[/(){}\\[\\]\\|@,;]')\n",
    "extra_symbol_remove=re.compile('[^0-9a-z #+_]')\n",
    "StopWords=set(stopwords.words('english'))"
   ]
  },
  {
   "cell_type": "code",
   "execution_count": 15,
   "id": "63325844",
   "metadata": {
    "execution": {
     "iopub.execute_input": "2024-02-04T13:32:57.739120Z",
     "iopub.status.busy": "2024-02-04T13:32:57.738321Z",
     "iopub.status.idle": "2024-02-04T13:32:57.894363Z",
     "shell.execute_reply": "2024-02-04T13:32:57.893104Z"
    },
    "papermill": {
     "duration": 0.169202,
     "end_time": "2024-02-04T13:32:57.897274",
     "exception": false,
     "start_time": "2024-02-04T13:32:57.728072",
     "status": "completed"
    },
    "tags": []
   },
   "outputs": [],
   "source": [
    "def clean_text(text):\n",
    "    text=text.lower()\n",
    "    text=special_char_remove.sub(' ',text)\n",
    "    text=extra_symbol_remove.sub('',text)\n",
    "    text=' '.join(word for word in text.split() if word not in StopWords)\n",
    "    return text\n",
    "df['Text']=df['Text'].apply(clean_text)"
   ]
  },
  {
   "cell_type": "code",
   "execution_count": 16,
   "id": "f3352ce4",
   "metadata": {
    "execution": {
     "iopub.execute_input": "2024-02-04T13:32:57.913352Z",
     "iopub.status.busy": "2024-02-04T13:32:57.912904Z",
     "iopub.status.idle": "2024-02-04T13:32:57.942396Z",
     "shell.execute_reply": "2024-02-04T13:32:57.941360Z"
    },
    "papermill": {
     "duration": 0.040099,
     "end_time": "2024-02-04T13:32:57.944869",
     "exception": false,
     "start_time": "2024-02-04T13:32:57.904770",
     "status": "completed"
    },
    "tags": []
   },
   "outputs": [
    {
     "name": "stdout",
     "output_type": "stream",
     "text": [
      "199692\n"
     ]
    }
   ],
   "source": [
    "print(df['Text'].apply(lambda x:len(x.split(' '))).sum())"
   ]
  },
  {
   "cell_type": "markdown",
   "id": "7c3143fa",
   "metadata": {
    "papermill": {
     "duration": 0.006621,
     "end_time": "2024-02-04T13:32:57.958549",
     "exception": false,
     "start_time": "2024-02-04T13:32:57.951928",
     "status": "completed"
    },
    "tags": []
   },
   "source": [
    "# Train test Split"
   ]
  },
  {
   "cell_type": "code",
   "execution_count": 17,
   "id": "6a1ac51f",
   "metadata": {
    "execution": {
     "iopub.execute_input": "2024-02-04T13:32:57.975709Z",
     "iopub.status.busy": "2024-02-04T13:32:57.974968Z",
     "iopub.status.idle": "2024-02-04T13:32:57.989680Z",
     "shell.execute_reply": "2024-02-04T13:32:57.987913Z"
    },
    "papermill": {
     "duration": 0.02576,
     "end_time": "2024-02-04T13:32:57.992531",
     "exception": false,
     "start_time": "2024-02-04T13:32:57.966771",
     "status": "completed"
    },
    "tags": []
   },
   "outputs": [],
   "source": [
    "from sklearn.model_selection import train_test_split\n",
    "X=df.Text\n",
    "Y=df.Emotion\n",
    "X_train,X_test,y_train,y_test=train_test_split(X,Y,test_size=0.3,random_state=42)"
   ]
  },
  {
   "cell_type": "code",
   "execution_count": 18,
   "id": "90963643",
   "metadata": {
    "execution": {
     "iopub.execute_input": "2024-02-04T13:32:58.008795Z",
     "iopub.status.busy": "2024-02-04T13:32:58.008348Z",
     "iopub.status.idle": "2024-02-04T13:32:58.016025Z",
     "shell.execute_reply": "2024-02-04T13:32:58.014612Z"
    },
    "papermill": {
     "duration": 0.018316,
     "end_time": "2024-02-04T13:32:58.018485",
     "exception": false,
     "start_time": "2024-02-04T13:32:58.000169",
     "status": "completed"
    },
    "tags": []
   },
   "outputs": [
    {
     "data": {
      "text/plain": [
       "((15019,), (6437,), (15019,), (6437,))"
      ]
     },
     "execution_count": 18,
     "metadata": {},
     "output_type": "execute_result"
    }
   ],
   "source": [
    "X_train.shape,X_test.shape,y_train.shape,y_test.shape"
   ]
  },
  {
   "cell_type": "markdown",
   "id": "c8ba26a0",
   "metadata": {
    "papermill": {
     "duration": 0.006554,
     "end_time": "2024-02-04T13:32:58.032127",
     "exception": false,
     "start_time": "2024-02-04T13:32:58.025573",
     "status": "completed"
    },
    "tags": []
   },
   "source": [
    "# Applying Logistic Regression"
   ]
  },
  {
   "cell_type": "code",
   "execution_count": 19,
   "id": "b570fa1f",
   "metadata": {
    "execution": {
     "iopub.execute_input": "2024-02-04T13:32:58.048435Z",
     "iopub.status.busy": "2024-02-04T13:32:58.047959Z",
     "iopub.status.idle": "2024-02-04T13:33:03.576427Z",
     "shell.execute_reply": "2024-02-04T13:33:03.575162Z"
    },
    "papermill": {
     "duration": 5.539959,
     "end_time": "2024-02-04T13:33:03.579427",
     "exception": false,
     "start_time": "2024-02-04T13:32:58.039468",
     "status": "completed"
    },
    "tags": []
   },
   "outputs": [
    {
     "name": "stdout",
     "output_type": "stream",
     "text": [
      "Accuracy = 0.8580083890010874\n"
     ]
    }
   ],
   "source": [
    "from sklearn.linear_model import LogisticRegression\n",
    "from sklearn.pipeline import Pipeline\n",
    "from sklearn.feature_extraction.text import TfidfTransformer\n",
    "\n",
    "lr=Pipeline([('vect',CountVectorizer()),\n",
    "             ('tfidf',TfidfTransformer()),\n",
    "             ('clf',LogisticRegression())\n",
    "            ])\n",
    "lr.fit(X_train,y_train)\n",
    "y_pred=lr.predict(X_test)\n",
    "\n",
    "print(\"Accuracy =\",accuracy_score(y_pred,y_test))"
   ]
  },
  {
   "cell_type": "code",
   "execution_count": 20,
   "id": "4d940174",
   "metadata": {
    "execution": {
     "iopub.execute_input": "2024-02-04T13:33:03.598809Z",
     "iopub.status.busy": "2024-02-04T13:33:03.597346Z",
     "iopub.status.idle": "2024-02-04T13:33:03.602905Z",
     "shell.execute_reply": "2024-02-04T13:33:03.601768Z"
    },
    "papermill": {
     "duration": 0.018198,
     "end_time": "2024-02-04T13:33:03.605290",
     "exception": false,
     "start_time": "2024-02-04T13:33:03.587092",
     "status": "completed"
    },
    "tags": []
   },
   "outputs": [],
   "source": [
    "#Applying Naive Bayes Classifier"
   ]
  },
  {
   "cell_type": "code",
   "execution_count": 21,
   "id": "ee83d08a",
   "metadata": {
    "execution": {
     "iopub.execute_input": "2024-02-04T13:33:03.621772Z",
     "iopub.status.busy": "2024-02-04T13:33:03.621091Z",
     "iopub.status.idle": "2024-02-04T13:33:03.977168Z",
     "shell.execute_reply": "2024-02-04T13:33:03.975700Z"
    },
    "papermill": {
     "duration": 0.36729,
     "end_time": "2024-02-04T13:33:03.979666",
     "exception": false,
     "start_time": "2024-02-04T13:33:03.612376",
     "status": "completed"
    },
    "tags": []
   },
   "outputs": [
    {
     "name": "stdout",
     "output_type": "stream",
     "text": [
      "Accuracy = 0.6597794003417741\n"
     ]
    }
   ],
   "source": [
    "from sklearn.naive_bayes import MultinomialNB\n",
    "\n",
    "nb=Pipeline([('vect',CountVectorizer()),\n",
    "             ('tfidf',TfidfTransformer()),\n",
    "             ('clf',MultinomialNB())\n",
    "            ])\n",
    "nb.fit(X_train,y_train)\n",
    "y_pred=nb.predict(X_test)\n",
    "\n",
    "print(\"Accuracy =\",accuracy_score(y_pred,y_test))"
   ]
  },
  {
   "cell_type": "code",
   "execution_count": 22,
   "id": "7cce5364",
   "metadata": {},
   "outputs": [
    {
     "name": "stdout",
     "output_type": "stream",
     "text": [
      "Model saved successfully!\n"
     ]
    }
   ],
   "source": [
    "import pickle\n",
    "with open('model.pkl', 'wb') as file:\n",
    "    pickle.dump(lr, file)\n",
    "\n",
    "print(\"Model saved successfully!\")"
   ]
  },
  {
   "cell_type": "code",
   "execution_count": 23,
   "id": "4b034613",
   "metadata": {},
   "outputs": [
    {
     "name": "stdout",
     "output_type": "stream",
     "text": [
      "Model loaded successfully!\n",
      "Accuracy of loaded model: 0.86\n"
     ]
    }
   ],
   "source": [
    "# Load the model from the file using pickle\n",
    "with open('model.pkl', 'rb') as file:\n",
    "    loaded_model = pickle.load(file)\n",
    "\n",
    "print(\"Model loaded successfully!\")\n",
    "\n",
    "# Test the loaded model\n",
    "y_pred_loaded = loaded_model.predict(X_test)\n",
    "print(f\"Accuracy of loaded model: {accuracy_score(y_test, y_pred_loaded):.2f}\")\n"
   ]
  },
  {
   "cell_type": "code",
   "execution_count": null,
   "id": "3b627da1",
   "metadata": {},
   "outputs": [],
   "source": []
  }
 ],
 "metadata": {
  "kaggle": {
   "accelerator": "none",
   "dataSources": [
    {
     "datasetId": 981611,
     "sourceId": 1658104,
     "sourceType": "datasetVersion"
    }
   ],
   "dockerImageVersionId": 30646,
   "isGpuEnabled": false,
   "isInternetEnabled": false,
   "language": "python",
   "sourceType": "notebook"
  },
  "kernelspec": {
   "display_name": "Python 3",
   "language": "python",
   "name": "python3"
  },
  "language_info": {
   "codemirror_mode": {
    "name": "ipython",
    "version": 3
   },
   "file_extension": ".py",
   "mimetype": "text/x-python",
   "name": "python",
   "nbconvert_exporter": "python",
   "pygments_lexer": "ipython3",
   "version": "3.12.5"
  },
  "papermill": {
   "default_parameters": {},
   "duration": 14.309174,
   "end_time": "2024-02-04T13:33:04.925401",
   "environment_variables": {},
   "exception": null,
   "input_path": "__notebook__.ipynb",
   "output_path": "__notebook__.ipynb",
   "parameters": {},
   "start_time": "2024-02-04T13:32:50.616227",
   "version": "2.5.0"
  }
 },
 "nbformat": 4,
 "nbformat_minor": 5
}
